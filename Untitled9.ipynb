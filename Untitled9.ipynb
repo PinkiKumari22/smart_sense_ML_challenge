{
  "nbformat": 4,
  "nbformat_minor": 0,
  "metadata": {
    "colab": {
      "provenance": []
    },
    "kernelspec": {
      "name": "python3",
      "display_name": "Python 3"
    },
    "language_info": {
      "name": "python"
    }
  },
  "cells": [
    {
      "cell_type": "code",
      "execution_count": 1,
      "metadata": {
        "id": "8PrY3Ybhp8oa"
      },
      "outputs": [],
      "source": [
        "import numpy as np\n",
        "import pandas as pd"
      ]
    },
    {
      "cell_type": "code",
      "source": [
        "df1 = pd.read_csv('/content/recipe.csv')"
      ],
      "metadata": {
        "id": "9SdtZCeRqVQh"
      },
      "execution_count": 8,
      "outputs": []
    },
    {
      "cell_type": "code",
      "source": [
        "df1.columns"
      ],
      "metadata": {
        "colab": {
          "base_uri": "https://localhost:8080/"
        },
        "id": "7FgzQjvGrk2U",
        "outputId": "707b0458-5d83-49a9-9f41-9c6ea15846c8"
      },
      "execution_count": 9,
      "outputs": [
        {
          "output_type": "execute_result",
          "data": {
            "text/plain": [
              "Index(['link', 'name', 'ingredients', 'recipe_category', 'recipe_cuisine',\n",
              "       'rating', 'rating_count', 'keywords'],\n",
              "      dtype='object')"
            ]
          },
          "metadata": {},
          "execution_count": 9
        }
      ]
    },
    {
      "cell_type": "code",
      "source": [
        "df1['name']"
      ],
      "metadata": {
        "colab": {
          "base_uri": "https://localhost:8080/"
        },
        "id": "9mBk4WPqxI9h",
        "outputId": "773ac623-fb96-45e0-e497-da153774295b"
      },
      "execution_count": 24,
      "outputs": [
        {
          "output_type": "execute_result",
          "data": {
            "text/plain": [
              "0                                        Cardamom Sharbat \n",
              "1        Lamb Tagine with Potatoes and Peas (L'Ham Bel ...\n",
              "2                  North African Chicken and Spinach Stew \n",
              "3           Moroccan-Spiced Chicken with Millet Tabbouleh \n",
              "4        Somali Beef Stew with Spiced Rice (Bariis Maraq) \n",
              "                               ...                        \n",
              "17385    Vietnamese Shrimp and Crab Fritters with Chili...\n",
              "17386                            Vietnamese Dipping Sauce \n",
              "17387                 Beef Stew with Curry and Lemongrass \n",
              "17388                                Vietnamese Beef Soup \n",
              "17389                               Vietnamese Fried Rice \n",
              "Name: name, Length: 17390, dtype: object"
            ]
          },
          "metadata": {},
          "execution_count": 24
        }
      ]
    },
    {
      "cell_type": "code",
      "source": [
        "df2 = pd.read_csv('/content/recipe_CuisineLabel.csv')\n",
        "df2.columns"
      ],
      "metadata": {
        "colab": {
          "base_uri": "https://localhost:8080/"
        },
        "id": "mSbOADX5wtaz",
        "outputId": "75647109-917a-4277-9119-ac01dbe05868"
      },
      "execution_count": 53,
      "outputs": [
        {
          "output_type": "execute_result",
          "data": {
            "text/plain": [
              "Index(['link', 'name', 'ingredients', 'recipe_category', 'recipe_cuisine',\n",
              "       'rating', 'rating_count', 'keywords', 'col1', 'CuisineLabel'],\n",
              "      dtype='object')"
            ]
          },
          "metadata": {},
          "execution_count": 53
        }
      ]
    },
    {
      "cell_type": "code",
      "source": [
        "df2.drop(['link','ingredients','keywords','name','recipe_category',], axis = 1, inplace = True)\n"
      ],
      "metadata": {
        "id": "FMfWyxkf2ifN"
      },
      "execution_count": 55,
      "outputs": []
    },
    {
      "cell_type": "code",
      "source": [
        "df2.columns"
      ],
      "metadata": {
        "colab": {
          "base_uri": "https://localhost:8080/"
        },
        "id": "tJBXj8in2aTe",
        "outputId": "ff23730f-f171-4ee7-bc11-130b1d875bed"
      },
      "execution_count": 56,
      "outputs": [
        {
          "output_type": "execute_result",
          "data": {
            "text/plain": [
              "Index(['recipe_cuisine', 'rating', 'rating_count', 'col1', 'CuisineLabel'], dtype='object')"
            ]
          },
          "metadata": {},
          "execution_count": 56
        }
      ]
    },
    {
      "cell_type": "code",
      "source": [
        "df3 = pd.read_csv('/content/recipe_cuisine_recipe_info.csv')\n",
        "df3.columns"
      ],
      "metadata": {
        "colab": {
          "base_uri": "https://localhost:8080/"
        },
        "id": "1YNeD48rw4r4",
        "outputId": "b023e4e1-981b-4185-e691-e4c977532be4"
      },
      "execution_count": 13,
      "outputs": [
        {
          "output_type": "execute_result",
          "data": {
            "text/plain": [
              "Index(['cuisine', 'ingredients', 'keywords', 'name', 'rating', 'rating_count',\n",
              "       'recipe_category', 'recipe_cuisine', 'recipe_link'],\n",
              "      dtype='object')"
            ]
          },
          "metadata": {},
          "execution_count": 13
        }
      ]
    },
    {
      "cell_type": "code",
      "source": [
        "df3['cuisine']"
      ],
      "metadata": {
        "colab": {
          "base_uri": "https://localhost:8080/"
        },
        "id": "E5qE5yAqxDKw",
        "outputId": "55090be3-4da2-4009-d012-cb468dec548e"
      },
      "execution_count": 31,
      "outputs": [
        {
          "output_type": "execute_result",
          "data": {
            "text/plain": [
              "0        African\n",
              "1        African\n",
              "2        African\n",
              "3        African\n",
              "4        African\n",
              "          ...   \n",
              "17486        NaN\n",
              "17487        NaN\n",
              "17488        NaN\n",
              "17489        NaN\n",
              "17490        NaN\n",
              "Name: cuisine, Length: 17491, dtype: object"
            ]
          },
          "metadata": {},
          "execution_count": 31
        }
      ]
    },
    {
      "cell_type": "code",
      "source": [
        "df1['recipe_category']"
      ],
      "metadata": {
        "colab": {
          "base_uri": "https://localhost:8080/"
        },
        "id": "fmQidyKx1hsp",
        "outputId": "616514c4-02f3-4e66-c2e7-02da2af1e755"
      },
      "execution_count": 42,
      "outputs": [
        {
          "output_type": "execute_result",
          "data": {
            "text/plain": [
              "0        Lemon $ Lemon Juice $ Citrus $ Drink $ Summer ...\n",
              "1        HarperCollins $ HarperCollins $ Dinner $ Lamb ...\n",
              "2        HarperCollins $ HarperCollins $ Dinner $ Chick...\n",
              "3        HarperCollins $ HarperCollins $ Dinner $ Chick...\n",
              "4        Stew $ Soup/Stew $ Dinner $ Beef $ Spice $ Cor...\n",
              "                               ...                        \n",
              "17385    Fish $ Ginger $ Pepper $ Shellfish $ Appetizer...\n",
              "17386    Sauce $ Citrus $ Garlic $ No-Cook $ Quick & Ea...\n",
              "17387    Soup/Stew $ Beef $ Mushroom $ Tomato $ Vegetab...\n",
              "17388    Soup/Stew $ Beef $ Leafy Green $ Kid-Friendly ...\n",
              "17389    Onion $ Rice $ Vegetable $ Side $ Stir-Fry $ V...\n",
              "Name: recipe_category, Length: 17390, dtype: object"
            ]
          },
          "metadata": {},
          "execution_count": 42
        }
      ]
    },
    {
      "cell_type": "code",
      "source": [
        "\n",
        "null_columns1 = [cols for cols in df1.columns if df1[cols].isnull().sum() > 0]\n",
        "for cols in null_columns1:\n",
        "    print(cols, df1[cols].isnull().sum())\n",
        "\n",
        ""
      ],
      "metadata": {
        "id": "U-mOIbhzximX"
      },
      "execution_count": 39,
      "outputs": []
    },
    {
      "cell_type": "code",
      "source": [
        "for cols in null_columns1:\n",
        "  df1[cols] = df1[cols].fillna(0)"
      ],
      "metadata": {
        "id": "OyXsEgof0oyQ"
      },
      "execution_count": 38,
      "outputs": []
    },
    {
      "cell_type": "code",
      "source": [
        "null_columns3 = [cols for cols in df3.columns if df3[cols].isnull().sum() > 0]\n",
        "for cols in null_columns3:\n",
        "    print(cols, df3[cols].isnull().sum())\n",
        "\n"
      ],
      "metadata": {
        "id": "Vud66YKnxqxo"
      },
      "execution_count": 36,
      "outputs": []
    },
    {
      "cell_type": "code",
      "source": [
        "#fill null values with 0\n",
        "for cols in null_columns3:\n",
        "  df3[cols] = df3[cols].fillna(0)"
      ],
      "metadata": {
        "id": "rlLqh8R50G16"
      },
      "execution_count": 34,
      "outputs": []
    },
    {
      "cell_type": "code",
      "source": [
        "#droping columns\n",
        "df1.drop(['link','ingredients','keywords','name'], axis = 1, inplace = True)\n"
      ],
      "metadata": {
        "id": "9iXnTiQZx_rt"
      },
      "execution_count": 26,
      "outputs": []
    },
    {
      "cell_type": "code",
      "source": [
        "df1.drop(['recipe_category'], axis=1, inplace=True)"
      ],
      "metadata": {
        "id": "IuT5PA_l1q7l"
      },
      "execution_count": null,
      "outputs": []
    },
    {
      "cell_type": "code",
      "source": [
        "df1.columns"
      ],
      "metadata": {
        "colab": {
          "base_uri": "https://localhost:8080/"
        },
        "id": "i-6C37DHzHNf",
        "outputId": "8e72569c-6eee-4764-891f-ea5e8136f8e7"
      },
      "execution_count": 49,
      "outputs": [
        {
          "output_type": "execute_result",
          "data": {
            "text/plain": [
              "Index(['recipe_cuisine', 'rating', 'rating_count'], dtype='object')"
            ]
          },
          "metadata": {},
          "execution_count": 49
        }
      ]
    },
    {
      "cell_type": "code",
      "source": [
        "df3.drop(['recipe_link','ingredients','keywords','name','recipe_category'], axis = 1, inplace = True)\n",
        "df3.columns"
      ],
      "metadata": {
        "colab": {
          "base_uri": "https://localhost:8080/"
        },
        "id": "SAV34e_CzJnm",
        "outputId": "4ec5e39d-43d9-4590-f24b-d25a0747f5c2"
      },
      "execution_count": 30,
      "outputs": [
        {
          "output_type": "execute_result",
          "data": {
            "text/plain": [
              "Index(['cuisine', 'rating', 'rating_count', 'recipe_cuisine'], dtype='object')"
            ]
          },
          "metadata": {},
          "execution_count": 30
        }
      ]
    },
    {
      "cell_type": "code",
      "source": [
        "print(df1.shape)\n",
        "print(df3.shape)"
      ],
      "metadata": {
        "colab": {
          "base_uri": "https://localhost:8080/"
        },
        "id": "26s5e3Wpz9dd",
        "outputId": "96bd08ea-af90-4cf7-d5fd-1516a94ad37e"
      },
      "execution_count": 40,
      "outputs": [
        {
          "output_type": "stream",
          "name": "stdout",
          "text": [
            "(17390, 4)\n",
            "(17491, 4)\n"
          ]
        }
      ]
    },
    {
      "cell_type": "code",
      "source": [
        "df4 = pd.merge(df1,df3, on = ['recipe_cuisine','rating','rating_count'], how = 'left', indicator = True)"
      ],
      "metadata": {
        "id": "7jLtAJiT0_he"
      },
      "execution_count": 59,
      "outputs": []
    },
    {
      "cell_type": "code",
      "source": [
        "df4.columns"
      ],
      "metadata": {
        "colab": {
          "base_uri": "https://localhost:8080/"
        },
        "id": "KI1VJBNi15-H",
        "outputId": "7de5bc3b-f851-45a8-a11b-bb2ce5bb024a"
      },
      "execution_count": 64,
      "outputs": [
        {
          "output_type": "execute_result",
          "data": {
            "text/plain": [
              "Index(['recipe_cuisine', 'rating', 'rating_count', 'cuisine', '_merge'], dtype='object')"
            ]
          },
          "metadata": {},
          "execution_count": 64
        }
      ]
    },
    {
      "cell_type": "code",
      "source": [
        "df4.drop(['_merge'], axis=1, inplace=True)\n"
      ],
      "metadata": {
        "id": "MaIVDHTs3OI0"
      },
      "execution_count": 71,
      "outputs": []
    },
    {
      "cell_type": "code",
      "source": [
        "df4.columns\n"
      ],
      "metadata": {
        "colab": {
          "base_uri": "https://localhost:8080/"
        },
        "id": "lQ__8e1D2MYh",
        "outputId": "2dfffa4f-862b-4abe-ecb9-0ba517ac7552"
      },
      "execution_count": 72,
      "outputs": [
        {
          "output_type": "execute_result",
          "data": {
            "text/plain": [
              "Index(['recipe_cuisine', 'rating', 'rating_count', 'cuisine'], dtype='object')"
            ]
          },
          "metadata": {},
          "execution_count": 72
        }
      ]
    },
    {
      "cell_type": "code",
      "source": [
        "print(df4.shape)\n",
        "print(df2.shape)"
      ],
      "metadata": {
        "colab": {
          "base_uri": "https://localhost:8080/"
        },
        "id": "OJXnwGPe6nuW",
        "outputId": "76187eb6-c66b-417a-b217-8a91bced85d2"
      },
      "execution_count": 73,
      "outputs": [
        {
          "output_type": "stream",
          "name": "stdout",
          "text": [
            "(17433, 4)\n",
            "(17391, 5)\n"
          ]
        }
      ]
    },
    {
      "cell_type": "code",
      "source": [
        "df_new = pd.merge(df2,df4, on = ['recipe_cuisine','rating','rating_count'], how = 'left', indicator = True)"
      ],
      "metadata": {
        "id": "xuktCYpg6k10"
      },
      "execution_count": 74,
      "outputs": []
    },
    {
      "cell_type": "code",
      "source": [
        "df_new.columns"
      ],
      "metadata": {
        "colab": {
          "base_uri": "https://localhost:8080/"
        },
        "id": "P9mRmdWx6x4G",
        "outputId": "efdc63dc-e5b3-42de-c6a8-11da767423ea"
      },
      "execution_count": 75,
      "outputs": [
        {
          "output_type": "execute_result",
          "data": {
            "text/plain": [
              "Index(['recipe_cuisine', 'rating', 'rating_count', 'col1', 'CuisineLabel',\n",
              "       'cuisine', '_merge'],\n",
              "      dtype='object')"
            ]
          },
          "metadata": {},
          "execution_count": 75
        }
      ]
    },
    {
      "cell_type": "code",
      "source": [
        "df_new.drop(['cuisine'], axis=1, inplace=True)"
      ],
      "metadata": {
        "id": "2CP5L_iS63X_"
      },
      "execution_count": 81,
      "outputs": []
    },
    {
      "cell_type": "code",
      "source": [
        "df_new.drop(['_merge'], axis=1, inplace=True)\n"
      ],
      "metadata": {
        "id": "fxv5wNlv8A36"
      },
      "execution_count": 84,
      "outputs": []
    },
    {
      "cell_type": "markdown",
      "source": [
        "# New Section"
      ],
      "metadata": {
        "id": "ieLy9ZhCp_fi"
      }
    },
    {
      "cell_type": "code",
      "source": [
        "df_new.drop(['CuisineLabel'], axis=1, inplace=True)"
      ],
      "metadata": {
        "id": "ICzQ1kh18jmh"
      },
      "execution_count": 89,
      "outputs": []
    },
    {
      "cell_type": "code",
      "source": [
        "df_new['recipe_cuisine']"
      ],
      "metadata": {
        "colab": {
          "base_uri": "https://localhost:8080/"
        },
        "id": "rLs_siUwsyiN",
        "outputId": "b2ab2529-a97f-4fa7-e328-6e875c0094d7"
      },
      "execution_count": 91,
      "outputs": [
        {
          "output_type": "execute_result",
          "data": {
            "text/plain": [
              "0             Middle Eastern $ African $ \n",
              "1             Middle Eastern $ African $ \n",
              "2                   Moroccan $ African $ \n",
              "3                   Moroccan $ African $ \n",
              "4                              African $ \n",
              "                       ...               \n",
              "255411    Vietnamese $ Southeast Asian $ \n",
              "255412              Asian $ Vietnamese $ \n",
              "255413              Asian $ Vietnamese $ \n",
              "255414                      Vietnamese $ \n",
              "255415                                NaN\n",
              "Name: recipe_cuisine, Length: 255416, dtype: object"
            ]
          },
          "metadata": {},
          "execution_count": 91
        }
      ]
    },
    {
      "cell_type": "code",
      "source": [
        "df_new.drop(['recipe_cuisine'], axis=1, inplace=True)"
      ],
      "metadata": {
        "id": "9C8mlWWlr3dC"
      },
      "execution_count": 92,
      "outputs": []
    },
    {
      "cell_type": "code",
      "source": [
        "\n"
      ],
      "metadata": {
        "id": "AqRmYQ0ksRKz"
      },
      "execution_count": 76,
      "outputs": []
    },
    {
      "cell_type": "code",
      "source": [
        "df_new['rating'].fillna(0)"
      ],
      "metadata": {
        "colab": {
          "base_uri": "https://localhost:8080/"
        },
        "id": "4LO3airN9Is9",
        "outputId": "0f9f7655-f07f-4234-afd4-34aa5c6f30c1"
      },
      "execution_count": 101,
      "outputs": [
        {
          "output_type": "execute_result",
          "data": {
            "text/plain": [
              "0         0/4\n",
              "1         0/4\n",
              "2         0/4\n",
              "3         0/4\n",
              "4         0/4\n",
              "         ... \n",
              "255411    3/4\n",
              "255412    3/4\n",
              "255413    3/4\n",
              "255414    3/4\n",
              "255415      0\n",
              "Name: rating, Length: 255416, dtype: object"
            ]
          },
          "metadata": {},
          "execution_count": 101
        }
      ]
    },
    {
      "cell_type": "code",
      "source": [
        "#saving this new dataframe into a csv file\n",
        "df_new.to_csv('new_dataset.csv', index = True)"
      ],
      "metadata": {
        "id": "cgudLn2WstU5"
      },
      "execution_count": 94,
      "outputs": []
    },
    {
      "cell_type": "code",
      "source": [
        "df_new['rating'] = df_new['rating'].str.replace('/4','')\n"
      ],
      "metadata": {
        "id": "DLYxYt5794CZ"
      },
      "execution_count": 107,
      "outputs": []
    },
    {
      "cell_type": "code",
      "source": [
        "df_new['rating']"
      ],
      "metadata": {
        "colab": {
          "base_uri": "https://localhost:8080/"
        },
        "id": "fmOQfOc2-uYO",
        "outputId": "e577241a-63b2-4aae-a914-82a66bdcbd4c"
      },
      "execution_count": 113,
      "outputs": [
        {
          "output_type": "execute_result",
          "data": {
            "text/plain": [
              "0           0\n",
              "1           0\n",
              "2           0\n",
              "3           0\n",
              "4           0\n",
              "         ... \n",
              "255411      3\n",
              "255412      3\n",
              "255413      3\n",
              "255414      3\n",
              "255415    NaN\n",
              "Name: rating, Length: 255416, dtype: object"
            ]
          },
          "metadata": {},
          "execution_count": 113
        }
      ]
    },
    {
      "cell_type": "code",
      "source": [
        "df_new['rating'].fillna(0, inplace = True)"
      ],
      "metadata": {
        "id": "NvA3XMmf-2fh"
      },
      "execution_count": 116,
      "outputs": []
    },
    {
      "cell_type": "code",
      "source": [
        "df_new['rating_count'].fillna(0, inplace = True)"
      ],
      "metadata": {
        "id": "-Y7DQUdI-hz1"
      },
      "execution_count": 117,
      "outputs": []
    },
    {
      "cell_type": "code",
      "source": [
        "df_new['rating_count']"
      ],
      "metadata": {
        "colab": {
          "base_uri": "https://localhost:8080/"
        },
        "id": "bqsqUlWS_Ft7",
        "outputId": "7232d09e-aa13-4eba-d2bf-dc005073b6fc"
      },
      "execution_count": 118,
      "outputs": [
        {
          "output_type": "execute_result",
          "data": {
            "text/plain": [
              "0          0.0\n",
              "1          0.0\n",
              "2          0.0\n",
              "3          0.0\n",
              "4          0.0\n",
              "          ... \n",
              "255411    36.0\n",
              "255412    22.0\n",
              "255413    22.0\n",
              "255414    33.0\n",
              "255415     0.0\n",
              "Name: rating_count, Length: 255416, dtype: float64"
            ]
          },
          "metadata": {},
          "execution_count": 118
        }
      ]
    },
    {
      "cell_type": "code",
      "source": [
        "df_new['rating'] = df_new['rating'].astype(float)"
      ],
      "metadata": {
        "id": "gGvLBUdH_ysO"
      },
      "execution_count": 120,
      "outputs": []
    },
    {
      "cell_type": "code",
      "source": [
        "#get the highest ratings*rating_count values for each col1\n",
        "df_new['final_rating'] = df_new['rating'] * df_new['rating_count']"
      ],
      "metadata": {
        "id": "mlW5OvuT7foL"
      },
      "execution_count": 121,
      "outputs": []
    },
    {
      "cell_type": "code",
      "source": [
        "df_new['final_rating']"
      ],
      "metadata": {
        "colab": {
          "base_uri": "https://localhost:8080/"
        },
        "id": "RhGwxbGXvH6M",
        "outputId": "f42eab74-c01b-47a4-c933-30f957fb05ba"
      },
      "execution_count": 122,
      "outputs": [
        {
          "output_type": "execute_result",
          "data": {
            "text/plain": [
              "0           0.0\n",
              "1           0.0\n",
              "2           0.0\n",
              "3           0.0\n",
              "4           0.0\n",
              "          ...  \n",
              "255411    108.0\n",
              "255412     66.0\n",
              "255413     66.0\n",
              "255414     99.0\n",
              "255415      0.0\n",
              "Name: final_rating, Length: 255416, dtype: float64"
            ]
          },
          "metadata": {},
          "execution_count": 122
        }
      ]
    },
    {
      "cell_type": "code",
      "source": [
        "df_new.head()"
      ],
      "metadata": {
        "colab": {
          "base_uri": "https://localhost:8080/",
          "height": 204
        },
        "id": "LACJW5R3_30k",
        "outputId": "0a7b11b4-4fdb-46a1-a26a-c48feac2286e"
      },
      "execution_count": 125,
      "outputs": [
        {
          "output_type": "execute_result",
          "data": {
            "text/plain": [
              "   rating  rating_count     col1  final_rating\n",
              "0     0.0           0.0  African           0.0\n",
              "1     0.0           0.0  African           0.0\n",
              "2     0.0           0.0  African           0.0\n",
              "3     0.0           0.0  African           0.0\n",
              "4     0.0           0.0  African           0.0"
            ],
            "text/html": [
              "\n",
              "  <div id=\"df-e33a7409-e76d-49cb-8537-b4a66fc3fba2\" class=\"colab-df-container\">\n",
              "    <div>\n",
              "<style scoped>\n",
              "    .dataframe tbody tr th:only-of-type {\n",
              "        vertical-align: middle;\n",
              "    }\n",
              "\n",
              "    .dataframe tbody tr th {\n",
              "        vertical-align: top;\n",
              "    }\n",
              "\n",
              "    .dataframe thead th {\n",
              "        text-align: right;\n",
              "    }\n",
              "</style>\n",
              "<table border=\"1\" class=\"dataframe\">\n",
              "  <thead>\n",
              "    <tr style=\"text-align: right;\">\n",
              "      <th></th>\n",
              "      <th>rating</th>\n",
              "      <th>rating_count</th>\n",
              "      <th>col1</th>\n",
              "      <th>final_rating</th>\n",
              "    </tr>\n",
              "  </thead>\n",
              "  <tbody>\n",
              "    <tr>\n",
              "      <th>0</th>\n",
              "      <td>0.0</td>\n",
              "      <td>0.0</td>\n",
              "      <td>African</td>\n",
              "      <td>0.0</td>\n",
              "    </tr>\n",
              "    <tr>\n",
              "      <th>1</th>\n",
              "      <td>0.0</td>\n",
              "      <td>0.0</td>\n",
              "      <td>African</td>\n",
              "      <td>0.0</td>\n",
              "    </tr>\n",
              "    <tr>\n",
              "      <th>2</th>\n",
              "      <td>0.0</td>\n",
              "      <td>0.0</td>\n",
              "      <td>African</td>\n",
              "      <td>0.0</td>\n",
              "    </tr>\n",
              "    <tr>\n",
              "      <th>3</th>\n",
              "      <td>0.0</td>\n",
              "      <td>0.0</td>\n",
              "      <td>African</td>\n",
              "      <td>0.0</td>\n",
              "    </tr>\n",
              "    <tr>\n",
              "      <th>4</th>\n",
              "      <td>0.0</td>\n",
              "      <td>0.0</td>\n",
              "      <td>African</td>\n",
              "      <td>0.0</td>\n",
              "    </tr>\n",
              "  </tbody>\n",
              "</table>\n",
              "</div>\n",
              "    <div class=\"colab-df-buttons\">\n",
              "\n",
              "  <div class=\"colab-df-container\">\n",
              "    <button class=\"colab-df-convert\" onclick=\"convertToInteractive('df-e33a7409-e76d-49cb-8537-b4a66fc3fba2')\"\n",
              "            title=\"Convert this dataframe to an interactive table.\"\n",
              "            style=\"display:none;\">\n",
              "\n",
              "  <svg xmlns=\"http://www.w3.org/2000/svg\" height=\"24px\" viewBox=\"0 -960 960 960\">\n",
              "    <path d=\"M120-120v-720h720v720H120Zm60-500h600v-160H180v160Zm220 220h160v-160H400v160Zm0 220h160v-160H400v160ZM180-400h160v-160H180v160Zm440 0h160v-160H620v160ZM180-180h160v-160H180v160Zm440 0h160v-160H620v160Z\"/>\n",
              "  </svg>\n",
              "    </button>\n",
              "\n",
              "  <style>\n",
              "    .colab-df-container {\n",
              "      display:flex;\n",
              "      gap: 12px;\n",
              "    }\n",
              "\n",
              "    .colab-df-convert {\n",
              "      background-color: #E8F0FE;\n",
              "      border: none;\n",
              "      border-radius: 50%;\n",
              "      cursor: pointer;\n",
              "      display: none;\n",
              "      fill: #1967D2;\n",
              "      height: 32px;\n",
              "      padding: 0 0 0 0;\n",
              "      width: 32px;\n",
              "    }\n",
              "\n",
              "    .colab-df-convert:hover {\n",
              "      background-color: #E2EBFA;\n",
              "      box-shadow: 0px 1px 2px rgba(60, 64, 67, 0.3), 0px 1px 3px 1px rgba(60, 64, 67, 0.15);\n",
              "      fill: #174EA6;\n",
              "    }\n",
              "\n",
              "    .colab-df-buttons div {\n",
              "      margin-bottom: 4px;\n",
              "    }\n",
              "\n",
              "    [theme=dark] .colab-df-convert {\n",
              "      background-color: #3B4455;\n",
              "      fill: #D2E3FC;\n",
              "    }\n",
              "\n",
              "    [theme=dark] .colab-df-convert:hover {\n",
              "      background-color: #434B5C;\n",
              "      box-shadow: 0px 1px 3px 1px rgba(0, 0, 0, 0.15);\n",
              "      filter: drop-shadow(0px 1px 2px rgba(0, 0, 0, 0.3));\n",
              "      fill: #FFFFFF;\n",
              "    }\n",
              "  </style>\n",
              "\n",
              "    <script>\n",
              "      const buttonEl =\n",
              "        document.querySelector('#df-e33a7409-e76d-49cb-8537-b4a66fc3fba2 button.colab-df-convert');\n",
              "      buttonEl.style.display =\n",
              "        google.colab.kernel.accessAllowed ? 'block' : 'none';\n",
              "\n",
              "      async function convertToInteractive(key) {\n",
              "        const element = document.querySelector('#df-e33a7409-e76d-49cb-8537-b4a66fc3fba2');\n",
              "        const dataTable =\n",
              "          await google.colab.kernel.invokeFunction('convertToInteractive',\n",
              "                                                    [key], {});\n",
              "        if (!dataTable) return;\n",
              "\n",
              "        const docLinkHtml = 'Like what you see? Visit the ' +\n",
              "          '<a target=\"_blank\" href=https://colab.research.google.com/notebooks/data_table.ipynb>data table notebook</a>'\n",
              "          + ' to learn more about interactive tables.';\n",
              "        element.innerHTML = '';\n",
              "        dataTable['output_type'] = 'display_data';\n",
              "        await google.colab.output.renderOutput(dataTable, element);\n",
              "        const docLink = document.createElement('div');\n",
              "        docLink.innerHTML = docLinkHtml;\n",
              "        element.appendChild(docLink);\n",
              "      }\n",
              "    </script>\n",
              "  </div>\n",
              "\n",
              "\n",
              "<div id=\"df-6ba70ff7-e523-4e27-8e94-c67c9e6d5761\">\n",
              "  <button class=\"colab-df-quickchart\" onclick=\"quickchart('df-6ba70ff7-e523-4e27-8e94-c67c9e6d5761')\"\n",
              "            title=\"Suggest charts.\"\n",
              "            style=\"display:none;\">\n",
              "\n",
              "<svg xmlns=\"http://www.w3.org/2000/svg\" height=\"24px\"viewBox=\"0 0 24 24\"\n",
              "     width=\"24px\">\n",
              "    <g>\n",
              "        <path d=\"M19 3H5c-1.1 0-2 .9-2 2v14c0 1.1.9 2 2 2h14c1.1 0 2-.9 2-2V5c0-1.1-.9-2-2-2zM9 17H7v-7h2v7zm4 0h-2V7h2v10zm4 0h-2v-4h2v4z\"/>\n",
              "    </g>\n",
              "</svg>\n",
              "  </button>\n",
              "\n",
              "<style>\n",
              "  .colab-df-quickchart {\n",
              "      --bg-color: #E8F0FE;\n",
              "      --fill-color: #1967D2;\n",
              "      --hover-bg-color: #E2EBFA;\n",
              "      --hover-fill-color: #174EA6;\n",
              "      --disabled-fill-color: #AAA;\n",
              "      --disabled-bg-color: #DDD;\n",
              "  }\n",
              "\n",
              "  [theme=dark] .colab-df-quickchart {\n",
              "      --bg-color: #3B4455;\n",
              "      --fill-color: #D2E3FC;\n",
              "      --hover-bg-color: #434B5C;\n",
              "      --hover-fill-color: #FFFFFF;\n",
              "      --disabled-bg-color: #3B4455;\n",
              "      --disabled-fill-color: #666;\n",
              "  }\n",
              "\n",
              "  .colab-df-quickchart {\n",
              "    background-color: var(--bg-color);\n",
              "    border: none;\n",
              "    border-radius: 50%;\n",
              "    cursor: pointer;\n",
              "    display: none;\n",
              "    fill: var(--fill-color);\n",
              "    height: 32px;\n",
              "    padding: 0;\n",
              "    width: 32px;\n",
              "  }\n",
              "\n",
              "  .colab-df-quickchart:hover {\n",
              "    background-color: var(--hover-bg-color);\n",
              "    box-shadow: 0 1px 2px rgba(60, 64, 67, 0.3), 0 1px 3px 1px rgba(60, 64, 67, 0.15);\n",
              "    fill: var(--button-hover-fill-color);\n",
              "  }\n",
              "\n",
              "  .colab-df-quickchart-complete:disabled,\n",
              "  .colab-df-quickchart-complete:disabled:hover {\n",
              "    background-color: var(--disabled-bg-color);\n",
              "    fill: var(--disabled-fill-color);\n",
              "    box-shadow: none;\n",
              "  }\n",
              "\n",
              "  .colab-df-spinner {\n",
              "    border: 2px solid var(--fill-color);\n",
              "    border-color: transparent;\n",
              "    border-bottom-color: var(--fill-color);\n",
              "    animation:\n",
              "      spin 1s steps(1) infinite;\n",
              "  }\n",
              "\n",
              "  @keyframes spin {\n",
              "    0% {\n",
              "      border-color: transparent;\n",
              "      border-bottom-color: var(--fill-color);\n",
              "      border-left-color: var(--fill-color);\n",
              "    }\n",
              "    20% {\n",
              "      border-color: transparent;\n",
              "      border-left-color: var(--fill-color);\n",
              "      border-top-color: var(--fill-color);\n",
              "    }\n",
              "    30% {\n",
              "      border-color: transparent;\n",
              "      border-left-color: var(--fill-color);\n",
              "      border-top-color: var(--fill-color);\n",
              "      border-right-color: var(--fill-color);\n",
              "    }\n",
              "    40% {\n",
              "      border-color: transparent;\n",
              "      border-right-color: var(--fill-color);\n",
              "      border-top-color: var(--fill-color);\n",
              "    }\n",
              "    60% {\n",
              "      border-color: transparent;\n",
              "      border-right-color: var(--fill-color);\n",
              "    }\n",
              "    80% {\n",
              "      border-color: transparent;\n",
              "      border-right-color: var(--fill-color);\n",
              "      border-bottom-color: var(--fill-color);\n",
              "    }\n",
              "    90% {\n",
              "      border-color: transparent;\n",
              "      border-bottom-color: var(--fill-color);\n",
              "    }\n",
              "  }\n",
              "</style>\n",
              "\n",
              "  <script>\n",
              "    async function quickchart(key) {\n",
              "      const quickchartButtonEl =\n",
              "        document.querySelector('#' + key + ' button');\n",
              "      quickchartButtonEl.disabled = true;  // To prevent multiple clicks.\n",
              "      quickchartButtonEl.classList.add('colab-df-spinner');\n",
              "      try {\n",
              "        const charts = await google.colab.kernel.invokeFunction(\n",
              "            'suggestCharts', [key], {});\n",
              "      } catch (error) {\n",
              "        console.error('Error during call to suggestCharts:', error);\n",
              "      }\n",
              "      quickchartButtonEl.classList.remove('colab-df-spinner');\n",
              "      quickchartButtonEl.classList.add('colab-df-quickchart-complete');\n",
              "    }\n",
              "    (() => {\n",
              "      let quickchartButtonEl =\n",
              "        document.querySelector('#df-6ba70ff7-e523-4e27-8e94-c67c9e6d5761 button');\n",
              "      quickchartButtonEl.style.display =\n",
              "        google.colab.kernel.accessAllowed ? 'block' : 'none';\n",
              "    })();\n",
              "  </script>\n",
              "</div>\n",
              "    </div>\n",
              "  </div>\n"
            ]
          },
          "metadata": {},
          "execution_count": 125
        }
      ]
    },
    {
      "cell_type": "code",
      "source": [
        "#TRAIN the model\n",
        "import pandas as pd\n",
        "from sklearn.metrics import mean_absolute_error\n",
        "from sklearn.model_selection import train_test_split\n",
        "from sklearn.tree import DecisionTreeRegressor"
      ],
      "metadata": {
        "id": "sPLsHyMkAlX_"
      },
      "execution_count": 133,
      "outputs": []
    },
    {
      "cell_type": "code",
      "source": [
        "from sklearn.model_selection import train_test_split\n",
        "from sklearn.tree import DecisionTreeClassifier\n",
        "\n",
        "# Splitting your data into training and testing sets\n",
        "outcomes = df_new['col1']\n",
        "features = df_new['final_rating']\n",
        "X_train, X_test, y_train, y_test = train_test_split(features, outcomes, test_size=0.2, random_state=42)\n",
        "\n",
        "# Reshaping X_train and X_test to make them 2D arrays\n",
        "X_train = X_train.values.reshape(-1, 1)\n",
        "X_test = X_test.values.reshape(-1, 1)\n",
        "\n",
        "# Creating a DecisionTreeClassifier with specified parameters\n",
        "classifier = DecisionTreeClassifier(max_depth=50, min_samples_leaf=6, min_samples_split=2)\n",
        "\n",
        "# Fitting the model on the training data\n",
        "classifier.fit(X_train, y_train)\n",
        "\n",
        "# Predicting on the training and testing data\n",
        "y_train_pred = classifier.predict(X_train)\n",
        "y_test_pred = classifier.predict(X_test)\n",
        "\n",
        "from sklearn.metrics import accuracy_score\n",
        "\n",
        "# Calculating accuracy for training and testing data\n",
        "train_accuracy = accuracy_score(y_train, y_train_pred)\n",
        "test_accuracy = accuracy_score(y_test, y_test_pred)\n",
        "\n",
        "print('The training accuracy is', train_accuracy)\n",
        "print('The test accuracy is', test_accuracy)\n",
        "\n"
      ],
      "metadata": {
        "colab": {
          "base_uri": "https://localhost:8080/"
        },
        "id": "ROPltRzRBsak",
        "outputId": "f063ce2d-b1bf-45f3-8d51-6da55f2bf2de"
      },
      "execution_count": 136,
      "outputs": [
        {
          "output_type": "stream",
          "name": "stdout",
          "text": [
            "The training accuracy is 0.6414707436916391\n",
            "The test accuracy is 0.6367551483830554\n"
          ]
        }
      ]
    }
  ]
}